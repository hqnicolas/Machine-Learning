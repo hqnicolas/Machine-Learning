{
  "nbformat": 4,
  "nbformat_minor": 0,
  "metadata": {
    "colab": {
      "provenance": []
    },
    "kernelspec": {
      "name": "python3",
      "display_name": "Python 3"
    },
    "language_info": {
      "name": "python"
    }
  },
  "cells": [
    {
      "cell_type": "code",
      "source": [
        "import seaborn\n",
        "import pandas as pd\n",
        "from sklearn.preprocessing import OrdinalEncoder\n",
        "from sklearn.model_selection import train_test_split\n",
        "from sklearn.tree import DecisionTreeClassifier\n",
        "from sklearn.ensemble import RandomForestClassifier\n",
        "from sklearn.metrics import classification_report, accuracy_score\n",
        "\n",
        "# --- Carregamento e Pré-processamento de Dados ---\n",
        "\n",
        "# Carregar o conjunto de dados dos pinguins\n",
        "dataframe = seaborn.load_dataset('penguins')\n",
        "\n",
        "# Etapas de pré-processamento do README\n",
        "# Transformar variáveis ​​categóricas em numéricas\n",
        "model_ordinal = OrdinalEncoder()\n",
        "object_cols = dataframe.select_dtypes(['object']).columns\n",
        "tranf_values = model_ordinal.fit_transform(dataframe[object_cols])\n",
        "dataframe[object_cols] = tranf_values\n",
        "\n",
        "# Substitui valores nulos pela média\n",
        "dataframe.fillna(dataframe.mean(), inplace=True)\n",
        "\n",
        "# Remove quaisquer linhas restantes com valores nulos (se houver)\n",
        "dataframe.dropna(inplace=True)\n",
        "\n",
        "# --- Divisão de Dados ---\n",
        "\n",
        "# Define variáveis ​​de entrada (x) e saída (y)\n",
        "x = dataframe.drop(['species'], axis=1)\n",
        "y = dataframe['species']\n",
        "\n",
        "# Divide os dados em conjuntos de treinamento e teste\n",
        "# Usando random_state para resultados reproduzíveis\n",
        "x_train, x_test, y_train, y_test = train_test_split(x, y, test_size=0.20, random_state=42)\n",
        "\n",
        "# --- 1. Modelo de Árvore de Decisão ---\n",
        "\n",
        "print(\"--- 1. Resultados da Árvore de Decisão ---\")\n",
        "# Inicializar e treinar o modelo\n",
        "decision_tree_model = DecisionTreeClassifier(random_state=42)\n",
        "decision_tree_model.fit(x_train, y_train)\n",
        "\n",
        "# Fazer previsões e avaliar\n",
        "y_predict_dt = decision_tree_model.predict(x_test)\n",
        "print(f\"Precisão: {accuracy_score(y_test, y_predict_dt):.4f}\")\n",
        "print(\"Relatório de Classificação:\")\n",
        "print(classification_report(y_test, y_predict_dt))\n",
        "\n",
        "# --- 2. Modelo de Floresta Aleatória ---\n",
        "\n",
        "print(\"\\n--- 2. Resultados da Floresta Aleatória ---\")\n",
        "# Inicializar e treinar o modelo\n",
        "random_forest_model = RandomForestClassifier(random_state=42)\n",
        "random_forest_model.fit(x_train, y_train)\n",
        "\n",
        "# Fazer previsões e avaliar\n",
        "y_predict_rf = random_forest_model.predict(x_test)\n",
        "print(f\"Precisão: {accuracy_score(y_test, y_predict_rf):.4f}\")\n",
        "print(\"Relatório de Classificação:\")\n",
        "print(classification_report(y_test, y_predict_rf))"
      ],
      "metadata": {
        "colab": {
          "base_uri": "https://localhost:8080/"
        },
        "id": "qpMO2Ghye54S",
        "outputId": "a6b98b84-1699-4b95-d92d-63fd1b4c77a6"
      },
      "execution_count": 9,
      "outputs": [
        {
          "output_type": "stream",
          "name": "stdout",
          "text": [
            "--- 1. Resultados da Árvore de Decisão ---\n",
            "Precisão: 0.9710\n",
            "Relatório de Classificação:\n",
            "              precision    recall  f1-score   support\n",
            "\n",
            "         0.0       1.00      0.97      0.98        32\n",
            "         1.0       0.94      1.00      0.97        16\n",
            "         2.0       0.95      0.95      0.95        21\n",
            "\n",
            "    accuracy                           0.97        69\n",
            "   macro avg       0.96      0.97      0.97        69\n",
            "weighted avg       0.97      0.97      0.97        69\n",
            "\n",
            "\n",
            "--- 2. Resultados da Floresta Aleatória ---\n",
            "Precisão: 1.0000\n",
            "Relatório de Classificação:\n",
            "              precision    recall  f1-score   support\n",
            "\n",
            "         0.0       1.00      1.00      1.00        32\n",
            "         1.0       1.00      1.00      1.00        16\n",
            "         2.0       1.00      1.00      1.00        21\n",
            "\n",
            "    accuracy                           1.00        69\n",
            "   macro avg       1.00      1.00      1.00        69\n",
            "weighted avg       1.00      1.00      1.00        69\n",
            "\n"
          ]
        }
      ]
    }
  ]
}